{
 "cells": [
  {
   "cell_type": "code",
   "execution_count": 1,
   "metadata": {},
   "outputs": [],
   "source": [
    "# import the libraries as shown below\n",
    "from tensorflow.keras.layers import Input, Lambda, Dense, Flatten,Conv2D, MaxPooling2D\n",
    "from tensorflow.keras.preprocessing import image\n",
    "from tensorflow.keras.preprocessing.image import ImageDataGenerator,load_img\n",
    "from tensorflow.keras.models import Sequential\n",
    "import numpy as np\n",
    "from glob import glob\n",
    "import matplotlib.pyplot as plt"
   ]
  },
  {
   "cell_type": "code",
   "execution_count": 2,
   "metadata": {},
   "outputs": [],
   "source": [
    "#resize the images\n",
    "img_width= 224\n",
    "img_height = 224\n"
   ]
  },
  {
   "cell_type": "code",
   "execution_count": 3,
   "metadata": {},
   "outputs": [],
   "source": [
    "train= r'C:/Users/rakes/Desktop/deep learning/Train/'\n",
    "test = r'C:/Users/rakes/Desktop/deep learning/Test'"
   ]
  },
  {
   "cell_type": "code",
   "execution_count": 4,
   "metadata": {},
   "outputs": [
    {
     "data": {
      "text/plain": [
       "['C:/Users/rakes/Desktop/deep learning/Train\\\\Gluacoma',\n",
       " 'C:/Users/rakes/Desktop/deep learning/Train\\\\NON Glaucoma']"
      ]
     },
     "execution_count": 4,
     "metadata": {},
     "output_type": "execute_result"
    }
   ],
   "source": [
    "folders = glob('C:/Users/rakes/Desktop/deep learning/Train/*')\n",
    "folders"
   ]
  },
  {
   "cell_type": "code",
   "execution_count": 5,
   "metadata": {},
   "outputs": [
    {
     "name": "stdout",
     "output_type": "stream",
     "text": [
      "WARNING:tensorflow:From C:\\Users\\rakes\\Anaconda3\\lib\\site-packages\\tensorflow_core\\python\\ops\\resource_variable_ops.py:1630: calling BaseResourceVariable.__init__ (from tensorflow.python.ops.resource_variable_ops) with constraint is deprecated and will be removed in a future version.\n",
      "Instructions for updating:\n",
      "If using Keras pass *_constraint arguments to layers.\n",
      "Model: \"sequential\"\n",
      "_________________________________________________________________\n",
      "Layer (type)                 Output Shape              Param #   \n",
      "=================================================================\n",
      "conv2d (Conv2D)              (None, 224, 224, 16)      208       \n",
      "_________________________________________________________________\n",
      "max_pooling2d (MaxPooling2D) (None, 112, 112, 16)      0         \n",
      "_________________________________________________________________\n",
      "conv2d_1 (Conv2D)            (None, 112, 112, 32)      2080      \n",
      "_________________________________________________________________\n",
      "max_pooling2d_1 (MaxPooling2 (None, 56, 56, 32)        0         \n",
      "_________________________________________________________________\n",
      "conv2d_2 (Conv2D)            (None, 56, 56, 64)        8256      \n",
      "_________________________________________________________________\n",
      "max_pooling2d_2 (MaxPooling2 (None, 28, 28, 64)        0         \n",
      "_________________________________________________________________\n",
      "flatten (Flatten)            (None, 50176)             0         \n",
      "_________________________________________________________________\n",
      "dense (Dense)                (None, 500)               25088500  \n",
      "_________________________________________________________________\n",
      "dense_1 (Dense)              (None, 2)                 1002      \n",
      "=================================================================\n",
      "Total params: 25,100,046\n",
      "Trainable params: 25,100,046\n",
      "Non-trainable params: 0\n",
      "_________________________________________________________________\n"
     ]
    }
   ],
   "source": [
    "### Create Model from scratch using CNN\n",
    "model=Sequential()\n",
    "model.add(Conv2D(filters=16,kernel_size=2,padding=\"same\",activation=\"relu\",input_shape=(224,224,3)))\n",
    "model.add(MaxPooling2D(pool_size=2))\n",
    "model.add(Conv2D(filters=32,kernel_size=2,padding=\"same\",activation =\"relu\"))\n",
    "model.add(MaxPooling2D(pool_size=2))\n",
    "model.add(Conv2D(filters=64,kernel_size=2,padding=\"same\",activation=\"relu\"))\n",
    "model.add(MaxPooling2D(pool_size=2))\n",
    "model.add(Flatten())\n",
    "model.add(Dense(500,activation=\"relu\"))\n",
    "model.add(Dense(2,activation=\"softmax\"))\n",
    "model.summary()"
   ]
  },
  {
   "cell_type": "code",
   "execution_count": 6,
   "metadata": {},
   "outputs": [],
   "source": [
    "model.compile(loss='categorical_crossentropy', \n",
    "              optimizer='adam',\n",
    "              metrics=['accuracy'])"
   ]
  },
  {
   "cell_type": "code",
   "execution_count": 7,
   "metadata": {},
   "outputs": [
    {
     "name": "stdout",
     "output_type": "stream",
     "text": [
      "Found 60 images belonging to 2 classes.\n"
     ]
    }
   ],
   "source": [
    "datagen = ImageDataGenerator(rescale = 1./255, validation_split= 0.2)\n",
    "\n",
    "train_datagen = datagen.flow_from_directory(r'C:/Users/rakes/Desktop/deep learning/Train/',\n",
    "                                            target_size = (224, 224),\n",
    "                                            batch_size = 16,\n",
    "                                            class_mode = 'categorical')"
   ]
  },
  {
   "cell_type": "code",
   "execution_count": 8,
   "metadata": {},
   "outputs": [
    {
     "name": "stdout",
     "output_type": "stream",
     "text": [
      "Found 20 images belonging to 2 classes.\n"
     ]
    }
   ],
   "source": [
    "test_set = datagen.flow_from_directory(r'C:/Users/rakes/Desktop/deep learning/Test',\n",
    "                                            target_size = (224, 224),\n",
    "                                            batch_size = 16,\n",
    "                                            class_mode = 'categorical')"
   ]
  },
  {
   "cell_type": "code",
   "execution_count": 9,
   "metadata": {
    "scrolled": true
   },
   "outputs": [
    {
     "name": "stdout",
     "output_type": "stream",
     "text": [
      "Epoch 1/10\n",
      "3/4 [=====================>........] - ETA: 2s - loss: 1.2602 - acc: 0.7045Epoch 1/10\n",
      "4/4 [==============================] - 7s 2s/step - loss: 1.6347 - acc: 0.6500 - val_loss: 0.0751 - val_acc: 1.0000\n",
      "Epoch 2/10\n",
      "3/4 [=====================>........] - ETA: 0s - loss: 0.1079 - acc: 0.9773Epoch 1/10\n",
      "4/4 [==============================] - 1s 227ms/step - loss: 0.1592 - acc: 0.9500 - val_loss: 0.0755 - val_acc: 0.9000\n",
      "Epoch 3/10\n",
      "3/4 [=====================>........] - ETA: 0s - loss: 0.0486 - acc: 0.9583Epoch 1/10\n",
      "4/4 [==============================] - 1s 285ms/step - loss: 0.0391 - acc: 0.9667 - val_loss: 0.0163 - val_acc: 1.0000\n",
      "Epoch 4/10\n",
      "3/4 [=====================>........] - ETA: 0s - loss: 0.0130 - acc: 1.0000Epoch 1/10\n",
      "4/4 [==============================] - 1s 257ms/step - loss: 0.0139 - acc: 1.0000 - val_loss: 0.0056 - val_acc: 1.0000\n",
      "Epoch 5/10\n",
      "3/4 [=====================>........] - ETA: 0s - loss: 0.0019 - acc: 1.0000Epoch 1/10\n",
      "4/4 [==============================] - 1s 306ms/step - loss: 0.0017 - acc: 1.0000 - val_loss: 9.7623e-04 - val_acc: 1.0000\n",
      "Epoch 6/10\n",
      "3/4 [=====================>........] - ETA: 0s - loss: 8.6783e-04 - acc: 1.0000Epoch 1/10\n",
      "4/4 [==============================] - 1s 247ms/step - loss: 9.5575e-04 - acc: 1.0000 - val_loss: 0.0012 - val_acc: 1.0000\n",
      "Epoch 7/10\n",
      "3/4 [=====================>........] - ETA: 0s - loss: 7.6014e-04 - acc: 1.0000Epoch 1/10\n",
      "4/4 [==============================] - 1s 226ms/step - loss: 7.0998e-04 - acc: 1.0000 - val_loss: 2.6320e-04 - val_acc: 1.0000\n",
      "Epoch 8/10\n",
      "3/4 [=====================>........] - ETA: 0s - loss: 1.9938e-04 - acc: 1.0000Epoch 1/10\n",
      "4/4 [==============================] - 1s 254ms/step - loss: 1.7877e-04 - acc: 1.0000 - val_loss: 7.9681e-05 - val_acc: 1.0000\n",
      "Epoch 9/10\n",
      "3/4 [=====================>........] - ETA: 0s - loss: 6.4825e-05 - acc: 1.0000Epoch 1/10\n",
      "4/4 [==============================] - 1s 258ms/step - loss: 5.6136e-05 - acc: 1.0000 - val_loss: 4.6916e-05 - val_acc: 1.0000\n",
      "Epoch 10/10\n",
      "3/4 [=====================>........] - ETA: 0s - loss: 3.9807e-05 - acc: 1.0000Epoch 1/10\n",
      "4/4 [==============================] - 1s 187ms/step - loss: 3.3379e-05 - acc: 1.0000 - val_loss: 4.7100e-05 - val_acc: 1.0000\n"
     ]
    }
   ],
   "source": [
    "history = model.fit_generator(generator= train_datagen, \n",
    "                   steps_per_epoch=len(train_datagen),\n",
    "                   epochs = 10,\n",
    "                   validation_data= test_set,\n",
    "                   validation_steps=len(test_set)) "
   ]
  },
  {
   "cell_type": "code",
   "execution_count": 21,
   "metadata": {},
   "outputs": [
    {
     "data": {
      "image/png": "[encoded data removed]",
      "text/plain": [
       "<Figure size 432x288 with 1 Axes>"
      ]
     },
     "metadata": {
      "needs_background": "light"
     },
     "output_type": "display_data"
    },
    {
     "data": {
      "image/png": "[encoded data removed]",
      "text/plain": [
       "<Figure size 432x288 with 1 Axes>"
      ]
     },
     "metadata": {
      "needs_background": "light"
     },
     "output_type": "display_data"
    },
    {
     "data": {
      "text/plain": [
       "<Figure size 432x288 with 0 Axes>"
      ]
     },
     "metadata": {},
     "output_type": "display_data"
    }
   ],
   "source": [
    "\n",
    "# plot the loss\n",
    "plt.plot(history.history['loss'], label='train loss')\n",
    "plt.plot(history.history['val_loss'], label='val loss')\n",
    "plt.legend()\n",
    "plt.show()\n",
    "plt.savefig('LossVal_loss')\n",
    "\n",
    "# plot the accuracy\n",
    "plt.plot(history.history['acc'], label='train acc')\n",
    "plt.plot(history.history['val_acc'], label='val acc')\n",
    "plt.legend()\n",
    "plt.show()\n",
    "plt.savefig('AccVal_acc')"
   ]
  },
  {
   "cell_type": "code",
   "execution_count": 12,
   "metadata": {},
   "outputs": [],
   "source": [
    "from tensorflow.keras.models import load_model\n",
    "from tensorflow.keras.preprocessing import image\n",
    "\n",
    "model.save('model_glaucoma1.h5')"
   ]
  },
  {
   "cell_type": "code",
   "execution_count": 22,
   "metadata": {},
   "outputs": [
    {
     "data": {
      "text/plain": [
       "array([[9.9999833e-01, 1.6834277e-06],\n",
       "       [2.2601689e-06, 9.9999774e-01],\n",
       "       [9.9999106e-01, 8.9197847e-06],\n",
       "       [7.8768731e-04, 9.9921227e-01],\n",
       "       [1.4519774e-04, 9.9985480e-01],\n",
       "       [9.9999869e-01, 1.2630211e-06],\n",
       "       [1.0717349e-07, 9.9999988e-01],\n",
       "       [9.9999928e-01, 7.6262677e-07],\n",
       "       [1.0413937e-07, 9.9999988e-01],\n",
       "       [1.0000000e+00, 4.5710578e-08],\n",
       "       [9.9999928e-01, 7.6262677e-07],\n",
       "       [9.9999893e-01, 1.0716844e-06],\n",
       "       [9.9998212e-01, 1.7916571e-05],\n",
       "       [9.9995005e-01, 4.9922099e-05],\n",
       "       [9.9991262e-01, 8.7389424e-05],\n",
       "       [6.1368002e-05, 9.9993861e-01],\n",
       "       [5.6176368e-06, 9.9999440e-01],\n",
       "       [1.5362895e-05, 9.9998462e-01],\n",
       "       [6.1538776e-05, 9.9993849e-01],\n",
       "       [2.5702034e-06, 9.9999738e-01]], dtype=float32)"
      ]
     },
     "execution_count": 22,
     "metadata": {},
     "output_type": "execute_result"
    }
   ],
   "source": [
    "y_pred = model.predict(test_set)\n",
    "y_pred"
   ]
  },
  {
   "cell_type": "code",
   "execution_count": 23,
   "metadata": {},
   "outputs": [
    {
     "data": {
      "text/plain": [
       "array([0, 1, 0, 1, 1, 0, 1, 0, 1, 0, 0, 0, 0, 0, 0, 1, 1, 1, 1, 1],\n",
       "      dtype=int64)"
      ]
     },
     "execution_count": 23,
     "metadata": {},
     "output_type": "execute_result"
    }
   ],
   "source": [
    "import numpy as np\n",
    "y_pred = np.argmax(y_pred, axis=1)\n",
    "y_pred"
   ]
  }
 ],
 "metadata": {
  "kernelspec": {
   "display_name": "Python 3",
   "language": "python",
   "name": "python3"
  },
  "language_info": {
   "codemirror_mode": {
    "name": "ipython",
    "version": 3
   },
   "file_extension": ".py",
   "mimetype": "text/x-python",
   "name": "python",
   "nbconvert_exporter": "python",
   "pygments_lexer": "ipython3",
   "version": "3.7.3"
  },
  "toc": {
   "base_numbering": 1,
   "nav_menu": {},
   "number_sections": true,
   "sideBar": true,
   "skip_h1_title": false,
   "title_cell": "Table of Contents",
   "title_sidebar": "Contents",
   "toc_cell": false,
   "toc_position": {},
   "toc_section_display": true,
   "toc_window_display": false
  }
 },
 "nbformat": 4,
 "nbformat_minor": 2
}
